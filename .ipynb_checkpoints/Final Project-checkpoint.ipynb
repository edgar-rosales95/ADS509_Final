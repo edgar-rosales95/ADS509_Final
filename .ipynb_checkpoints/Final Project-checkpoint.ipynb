{
 "cells": [
  {
   "cell_type": "code",
   "execution_count": 1,
   "id": "7410f462-82d6-4a06-81f4-7e056cb9d2ec",
   "metadata": {},
   "outputs": [],
   "source": [
    "# Load Libraries here\n",
    "import pandas as pd\n",
    "import re\n",
    "from nltk.corpus import stopwords"
   ]
  },
  {
   "cell_type": "markdown",
   "id": "96f1c2f8-0dc5-4de7-bb5d-a9cb24df0914",
   "metadata": {},
   "source": [
    "# Load Dataset"
   ]
  },
  {
   "cell_type": "code",
   "execution_count": 6,
   "id": "522af2b2-9a62-49c1-9472-83f1abfd3bda",
   "metadata": {},
   "outputs": [],
   "source": [
    "# 2. Load the CSV (adjust path if needed)\n",
    "df = pd.read_csv(\"data/ASRS_DBOnline.csv\")"
   ]
  },
  {
   "cell_type": "code",
   "execution_count": null,
   "id": "d35528ce-56f7-4911-8820-c0e45c686873",
   "metadata": {},
   "outputs": [],
   "source": []
  }
 ],
 "metadata": {
  "kernelspec": {
   "display_name": "Python [conda env:base] *",
   "language": "python",
   "name": "conda-base-py"
  },
  "language_info": {
   "codemirror_mode": {
    "name": "ipython",
    "version": 3
   },
   "file_extension": ".py",
   "mimetype": "text/x-python",
   "name": "python",
   "nbconvert_exporter": "python",
   "pygments_lexer": "ipython3",
   "version": "3.10.16"
  }
 },
 "nbformat": 4,
 "nbformat_minor": 5
}
