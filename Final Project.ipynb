{
 "cells": [
  {
   "cell_type": "markdown",
   "id": "c5c16c32-4b18-483d-8547-88ea50ac9f85",
   "metadata": {},
   "source": [
    "# Final Project Aviation Dataset"
   ]
  },
  {
   "cell_type": "code",
   "execution_count": 1,
   "id": "7565b07d-243c-45fa-80e2-b5ac1b51e049",
   "metadata": {},
   "outputs": [
    {
     "name": "stderr",
     "output_type": "stream",
     "text": [
      "[nltk_data] Downloading package stopwords to\n",
      "[nltk_data]     C:\\Users\\16302/nltk_data...\n",
      "[nltk_data]   Package stopwords is already up-to-date!\n",
      "[nltk_data] Downloading package wordnet to C:\\Users\\16302/nltk_data...\n",
      "[nltk_data]   Package wordnet is already up-to-date!\n",
      "[nltk_data] Downloading package omw-1.4 to C:\\Users\\16302/nltk_data...\n",
      "[nltk_data]   Package omw-1.4 is already up-to-date!\n",
      "[nltk_data] Downloading package punkt to C:\\Users\\16302/nltk_data...\n",
      "[nltk_data]   Package punkt is already up-to-date!\n"
     ]
    }
   ],
   "source": [
    "# Load Libraries here\n",
    "import pandas as pd\n",
    "import re\n",
    "from nltk.corpus import stopwords\n",
    "import matplotlib.pyplot as plt\n",
    "import nltk\n",
    "import numpy as np\n",
    "nltk.download('stopwords')\n",
    "nltk.download('wordnet')\n",
    "nltk.download('omw-1.4')\n",
    "from nltk.stem import WordNetLemmatizer\n",
    "from collections import Counter\n",
    "from nltk import FreqDist\n",
    "nltk.download('punkt')\n",
    "from sklearn.feature_extraction.text import TfidfVectorizer\n",
    "from sklearn.model_selection import train_test_split\n",
    "from sklearn.linear_model import LogisticRegression\n",
    "from sklearn.metrics import accuracy_score, classification_report\n",
    "from sklearn.svm import LinearSVC\n",
    "from sklearn.metrics import accuracy_score, classification_report, ConfusionMatrixDisplay\n"
   ]
  },
  {
   "cell_type": "markdown",
   "id": "96f1c2f8-0dc5-4de7-bb5d-a9cb24df0914",
   "metadata": {},
   "source": [
    "## Load Dataset"
   ]
  },
  {
   "cell_type": "code",
   "execution_count": 2,
   "id": "522af2b2-9a62-49c1-9472-83f1abfd3bda",
   "metadata": {},
   "outputs": [],
   "source": [
    "# Load the CSV (adjust path if needed)\n",
    "df = pd.read_csv(\"data/ASRS_DBOnline.csv\")"
   ]
  },
  {
   "cell_type": "markdown",
   "id": "4b8d76ac-1b46-4844-949b-61d6a88ef6c7",
   "metadata": {},
   "source": [
    "## Clean, Tokenize & Normalize"
   ]
  },
  {
   "cell_type": "code",
   "execution_count": 3,
   "id": "a21abb08-6d90-4c37-8d04-c42630cbc834",
   "metadata": {},
   "outputs": [],
   "source": [
    "# 2.1 Drop any empty narratives\n",
    "df = df.dropna(subset=['Report 1'])\n",
    "\n",
    "# 2.2 Lower-case all text\n",
    "df['clean_text'] = df['Report 1'].str.lower()\n",
    "\n",
    "# 2.3 Remove everything except letters & spaces\n",
    "df['clean_text'] = df['clean_text'].str.replace(r'[^a-z\\s]', ' ', regex=True)\n",
    "\n",
    "# 2.4 Tokenize by splitting on whitespace\n",
    "df['tokens'] = df['clean_text'].str.split()\n",
    "\n",
    "# 2.5 Remove stop words and 1-letter tokens\n",
    "stop = set(stopwords.words('english'))\n",
    "df['tokens'] = df['tokens'].apply(\n",
    "    lambda toks: [t for t in toks if t not in stop and len(t) > 1]\n",
    ")\n",
    "\n",
    "# 2.6 Lemmatize for normalization\n",
    "lemmatizer = WordNetLemmatizer()\n",
    "df['tokens'] = df['tokens'].apply(\n",
    "    lambda toks: [lemmatizer.lemmatize(t) for t in toks]\n",
    ")"
   ]
  },
  {
   "cell_type": "code",
   "execution_count": 4,
   "id": "2e2a8976-fd3e-4c9e-bb43-456bb85165a6",
   "metadata": {},
   "outputs": [
    {
     "data": {
      "text/html": [
       "<div>\n",
       "<style scoped>\n",
       "    .dataframe tbody tr th:only-of-type {\n",
       "        vertical-align: middle;\n",
       "    }\n",
       "\n",
       "    .dataframe tbody tr th {\n",
       "        vertical-align: top;\n",
       "    }\n",
       "\n",
       "    .dataframe thead th {\n",
       "        text-align: right;\n",
       "    }\n",
       "</style>\n",
       "<table border=\"1\" class=\"dataframe\">\n",
       "  <thead>\n",
       "    <tr style=\"text-align: right;\">\n",
       "      <th></th>\n",
       "      <th>Report 1</th>\n",
       "      <th>clean_text</th>\n",
       "      <th>tokens</th>\n",
       "    </tr>\n",
       "  </thead>\n",
       "  <tbody>\n",
       "    <tr>\n",
       "      <th>0</th>\n",
       "      <td>Narrative</td>\n",
       "      <td>narrative</td>\n",
       "      <td>[narrative]</td>\n",
       "    </tr>\n",
       "    <tr>\n",
       "      <th>1</th>\n",
       "      <td>Was told to line up and wait runway XXR at int...</td>\n",
       "      <td>was told to line up and wait runway xxr at int...</td>\n",
       "      <td>[told, line, wait, runway, xxr, intersection, ...</td>\n",
       "    </tr>\n",
       "    <tr>\n",
       "      <th>2</th>\n",
       "      <td>A large corporate aircraft taxied with in 5-8 ...</td>\n",
       "      <td>a large corporate aircraft taxied with in     ...</td>\n",
       "      <td>[large, corporate, aircraft, taxied, inch, sta...</td>\n",
       "    </tr>\n",
       "    <tr>\n",
       "      <th>3</th>\n",
       "      <td>GPS Spoofing. Enroute today from ZZZ to SOF; w...</td>\n",
       "      <td>gps spoofing  enroute today from zzz to sof  w...</td>\n",
       "      <td>[gps, spoofing, enroute, today, zzz, sof, nort...</td>\n",
       "    </tr>\n",
       "    <tr>\n",
       "      <th>4</th>\n",
       "      <td>Practicing simulated arcs with instrument stud...</td>\n",
       "      <td>practicing simulated arcs with instrument stud...</td>\n",
       "      <td>[practicing, simulated, arc, instrument, stude...</td>\n",
       "    </tr>\n",
       "  </tbody>\n",
       "</table>\n",
       "</div>"
      ],
      "text/plain": [
       "                                            Report 1  \\\n",
       "0                                          Narrative   \n",
       "1  Was told to line up and wait runway XXR at int...   \n",
       "2  A large corporate aircraft taxied with in 5-8 ...   \n",
       "3  GPS Spoofing. Enroute today from ZZZ to SOF; w...   \n",
       "4  Practicing simulated arcs with instrument stud...   \n",
       "\n",
       "                                          clean_text  \\\n",
       "0                                          narrative   \n",
       "1  was told to line up and wait runway xxr at int...   \n",
       "2  a large corporate aircraft taxied with in     ...   \n",
       "3  gps spoofing  enroute today from zzz to sof  w...   \n",
       "4  practicing simulated arcs with instrument stud...   \n",
       "\n",
       "                                              tokens  \n",
       "0                                        [narrative]  \n",
       "1  [told, line, wait, runway, xxr, intersection, ...  \n",
       "2  [large, corporate, aircraft, taxied, inch, sta...  \n",
       "3  [gps, spoofing, enroute, today, zzz, sof, nort...  \n",
       "4  [practicing, simulated, arc, instrument, stude...  "
      ]
     },
     "execution_count": 4,
     "metadata": {},
     "output_type": "execute_result"
    }
   ],
   "source": [
    "df[['Report 1','clean_text','tokens']].head()"
   ]
  },
  {
   "cell_type": "markdown",
   "id": "b84c05dd-4e3d-4a18-904f-9bda0fabb7d4",
   "metadata": {},
   "source": [
    "## Exploratory Data Analysis"
   ]
  },
  {
   "cell_type": "code",
   "execution_count": 5,
   "id": "8aabad04-6dd4-4dd0-b473-706fd067233e",
   "metadata": {},
   "outputs": [
    {
     "name": "stdout",
     "output_type": "stream",
     "text": [
      "Assessments.1\n",
      "Human Factors                               2055\n",
      "Aircraft                                    1751\n",
      "Weather                                      218\n",
      "ATC Equipment / Nav Facility / Buildings      70\n",
      "Environment - Non Weather Related             67\n",
      "Staffing                                       2\n",
      "Primary Problem                                1\n",
      "Name: count, dtype: int64\n"
     ]
    },
    {
     "data": {
      "image/png": "[encoded data removed]",
      "text/plain": [
       "<Figure size 800x400 with 1 Axes>"
      ]
     },
     "metadata": {},
     "output_type": "display_data"
    }
   ],
   "source": [
    "# Count how many reports per problem category\n",
    "label_counts = df['Assessments.1'].value_counts()\n",
    "\n",
    "# Display top 10\n",
    "print(label_counts.head(10))\n",
    "\n",
    "# Bar plot of top 10\n",
    "label_counts.head(10).plot(kind='bar', figsize=(8,4))\n",
    "plt.title(\"Top 10 ASRS Primary Problems\")\n",
    "plt.ylabel(\"Number of Reports\")\n",
    "plt.xticks(rotation=45, ha='right')\n",
    "plt.tight_layout()\n",
    "plt.show()"
   ]
  },
  {
   "cell_type": "markdown",
   "id": "55c4979c-b914-4d97-a1e2-fb50f8602b89",
   "metadata": {},
   "source": [
    "Human Factors and Aircraft account for nearly 90% of the reports."
   ]
  },
  {
   "cell_type": "code",
   "execution_count": 6,
   "id": "bbd2baae-15b3-4bf0-86a0-b4f01d73d76d",
   "metadata": {},
   "outputs": [
    {
     "name": "stdout",
     "output_type": "stream",
     "text": [
      "count    4164.000000\n",
      "mean      123.274015\n",
      "std       104.814701\n",
      "min         1.000000\n",
      "25%        57.000000\n",
      "50%        95.000000\n",
      "75%       157.000000\n",
      "max      1102.000000\n",
      "Name: token_count, dtype: float64\n"
     ]
    },
    {
     "data": {
      "image/png": "[encoded data removed]",
      "text/plain": [
       "<Figure size 600x400 with 1 Axes>"
      ]
     },
     "metadata": {},
     "output_type": "display_data"
    }
   ],
   "source": [
    "# Compute token counts\n",
    "df['token_count'] = df['tokens'].map(len)\n",
    "\n",
    "print(df['token_count'].describe())\n",
    "\n",
    "df['token_count'].plot(kind='hist', bins=30, figsize=(6,4))\n",
    "plt.title(\"Distribution of Tokens per Report\")\n",
    "plt.xlabel(\"Tokens\")\n",
    "plt.show()"
   ]
  },
  {
   "cell_type": "markdown",
   "id": "20688361-0c4d-4366-812c-b17608bdafd9",
   "metadata": {},
   "source": [
    "Narratives average about 123 Tokens with a majority falling between 60 and 160 words. This makes sense as radio communications should be \"short and sweet\". "
   ]
  },
  {
   "cell_type": "code",
   "execution_count": 7,
   "id": "58c7aa66-8407-495d-8e66-febcb7a24a5d",
   "metadata": {},
   "outputs": [
    {
     "name": "stdout",
     "output_type": "stream",
     "text": [
      "             freq\n",
      "aircraft     9395\n",
      "zzz          6799\n",
      "runway       5553\n",
      "flight       5346\n",
      "approach     3781\n",
      "landing      3547\n",
      "u            3482\n",
      "engine       3459\n",
      "time         2868\n",
      "back         2814\n",
      "pilot        2797\n",
      "would        2519\n",
      "left         2443\n",
      "altitude     2413\n",
      "right        2323\n",
      "atc          2257\n",
      "control      2187\n",
      "airport      2084\n",
      "captain      1932\n",
      "maintenance  1905\n"
     ]
    },
    {
     "data": {
      "image/png": "[encoded data removed]",
      "text/plain": [
       "<Figure size 800x400 with 1 Axes>"
      ]
     },
     "metadata": {},
     "output_type": "display_data"
    }
   ],
   "source": [
    "# Flatten all tokens into one list and count\n",
    "all_counts = Counter()\n",
    "df['tokens'].map(all_counts.update)\n",
    "\n",
    "# Convert to DataFrame\n",
    "freq_df = (\n",
    "    pd.DataFrame.from_dict(all_counts, orient='index', columns=['freq'])\n",
    "      .sort_values('freq', ascending=False)\n",
    ")\n",
    "\n",
    "# Show top 20\n",
    "print(freq_df.head(20))\n",
    "\n",
    "# Plot top 10\n",
    "freq_df.head(10).plot(kind='bar', figsize=(8,4))\n",
    "plt.title(\"Top 10 Words in ASRS Narratives\")\n",
    "plt.ylabel(\"Frequency\")\n",
    "plt.xticks(rotation=45, ha='right')\n",
    "plt.tight_layout()\n",
    "plt.show()"
   ]
  },
  {
   "cell_type": "markdown",
   "id": "cc65adba-5f3b-4e6c-8306-d32500ef44f5",
   "metadata": {},
   "source": [
    "ZZZ suggests further cleaning. Aircraft, Runway, Flight, Approach reflect reports consisting of routine aircraft operations and runway interactions. "
   ]
  },
  {
   "cell_type": "markdown",
   "id": "dbaa9cb4-21ca-4605-889f-2181def1d459",
   "metadata": {},
   "source": [
    "# Create Features and Labels - \n",
    "\n",
    "### Use preprocessed tokens to create features and use Assessments.1 as the label; build feature words based on frequency"
   ]
  },
  {
   "cell_type": "code",
   "execution_count": 8,
   "id": "6a9b2df4-48e6-4db2-aea6-d166e13ef06a",
   "metadata": {},
   "outputs": [],
   "source": [
    "# Build feature words based on frequency\n",
    "word_cutoff = 5\n",
    "tokens = [t for tokens in df['tokens'] for t in tokens]\n",
    "word_dist = FreqDist(tokens)\n",
    "\n",
    "feature_words = set()\n",
    "for word, count in word_dist.items():\n",
    "    if count >= word_cutoff:\n",
    "        feature_words.add(word)"
   ]
  },
  {
   "cell_type": "markdown",
   "id": "94c5145e-c1a6-4adb-8dac-36b31123add8",
   "metadata": {},
   "source": [
    "### Define feature extraction function"
   ]
  },
  {
   "cell_type": "code",
   "execution_count": 9,
   "id": "6f9972d9-7e0b-4746-af40-b683b64c1a25",
   "metadata": {},
   "outputs": [],
   "source": [
    "def conv_features(text, fw):\n",
    "    \"\"\"Convert text to feature dictionary for NLTK Naive Bayes\"\"\"\n",
    "    text_set = set(text.split())\n",
    "    text_set = text_set.intersection(fw)\n",
    "    return {word: True for word in text_set}"
   ]
  },
  {
   "cell_type": "markdown",
   "id": "b119914b-2cde-4dd2-b485-cb15d3ec901f",
   "metadata": {},
   "source": [
    "### Clean data and build feature sets"
   ]
  },
  {
   "cell_type": "code",
   "execution_count": 10,
   "id": "e1a72f6a-4936-4bcd-953f-900088e0ecf4",
   "metadata": {},
   "outputs": [],
   "source": [
    "# Ensure there are no nulls in tokens\n",
    "df = df.dropna(subset=['tokens'])\n",
    "\n",
    "# Join token list into a single string\n",
    "df['joined_tokens'] = df['tokens'].apply(lambda x: ' '.join(x))\n",
    "\n",
    "# Convert joined tokens into feature sets\n",
    "featuresets = [\n",
    "    (conv_features(text, feature_words), label)\n",
    "    for text, label in zip(df['joined_tokens'], df['Assessments.1'])\n",
    "]"
   ]
  },
  {
   "cell_type": "markdown",
   "id": "de3bf3a4-21c2-4a68-9c31-fc55ab39d674",
   "metadata": {},
   "source": [
    "# Naive Bayes\n",
    "### Train/Test Split and train Naive Bayes Classifier"
   ]
  },
  {
   "cell_type": "code",
   "execution_count": 11,
   "id": "98b75596-1a47-403c-aac1-f830fbf1c4ec",
   "metadata": {},
   "outputs": [],
   "source": [
    "import random\n",
    "random.seed(42)\n",
    "random.shuffle(featuresets)\n",
    "\n",
    "test_size = 500\n",
    "test_set = featuresets[:test_size]\n",
    "train_set = featuresets[test_size:]\n",
    "\n",
    "classifier = nltk.NaiveBayesClassifier.train(train_set)"
   ]
  },
  {
   "cell_type": "code",
   "execution_count": 12,
   "id": "2aee7f16-f5e4-4454-b2fe-f1fcc723f67a",
   "metadata": {},
   "outputs": [
    {
     "name": "stdout",
     "output_type": "stream",
     "text": [
      "Naive Bayes Accuracy: 0.006\n",
      "Most Informative Features\n",
      "                creating = True           Staffi : Aircra =    852.2 : 1.0\n",
      "                division = True           Staffi : Human  =    606.3 : 1.0\n",
      "              procedural = True           Staffi : Human  =    606.3 : 1.0\n",
      "                 staffed = True           Staffi : Human  =    606.3 : 1.0\n",
      "                  uneven = True           Staffi : Human  =    606.3 : 1.0\n",
      "                shortcut = True           Staffi : Aircra =    511.3 : 1.0\n",
      "             supervision = True           Staffi : Aircra =    511.3 : 1.0\n",
      "               narrative = True           Primar : Human  =    389.8 : 1.0\n",
      "                   angry = True           Staffi : Aircra =    306.8 : 1.0\n",
      "                 handoff = True           Staffi : Aircra =    306.8 : 1.0\n"
     ]
    }
   ],
   "source": [
    "# Accuracy\n",
    "print(\"Naive Bayes Accuracy:\", nltk.classify.accuracy(classifier, test_set))\n",
    "\n",
    "# Most informative features\n",
    "classifier.show_most_informative_features(10)"
   ]
  },
  {
   "cell_type": "markdown",
   "id": "01df79fc-dd56-40c8-b1be-2d6d3b8ef1c6",
   "metadata": {},
   "source": [
    "### Predict and Compare with actual labels"
   ]
  },
  {
   "cell_type": "code",
   "execution_count": 13,
   "id": "4417b196-e4bb-4fd6-b7da-bc098dea7045",
   "metadata": {
    "scrolled": true
   },
   "outputs": [
    {
     "name": "stdout",
     "output_type": "stream",
     "text": [
      "Report: narrative...\n",
      "Predicted: Human Factors | Actual: Primary Problem\n",
      "\n",
      "Report: told line wait runway xxr intersection cleared take passing kt pic pilot flying rejected takeoff due tow crossing approa...\n",
      "Predicted: Primary Problem | Actual: Human Factors\n",
      "\n",
      "Report: large corporate aircraft taxied inch static parked helicopter monitoring ramp situation lack corporate pilot awareness t...\n",
      "Predicted: Primary Problem | Actual: Human Factors\n",
      "\n",
      "Report: gps spoofing enroute today zzz sof north egypt approaching lakto intersection filed route ipads showed airplane directly...\n",
      "Predicted: Primary Problem | Actual: ATC Equipment / Nav Facility / Buildings\n",
      "\n",
      "Report: practicing simulated arc instrument student aircraft came directly u altitude descended turned avoid aircraft followed c...\n",
      "Predicted: Primary Problem | Actual: Human Factors\n",
      "\n"
     ]
    }
   ],
   "source": [
    "# Try a few predictions\n",
    "for i in range(5):\n",
    "    print(f\"Report: {df.iloc[i]['joined_tokens'][:120]}...\")\n",
    "    predicted = classifier.classify(conv_features(df.iloc[i]['joined_tokens'], feature_words))\n",
    "    actual = df.iloc[i]['Assessments.1']\n",
    "    print(f\"Predicted: {predicted} | Actual: {actual}\\n\")"
   ]
  },
  {
   "cell_type": "markdown",
   "id": "5b005ff6-a21a-4f27-afa8-08649534fc46",
   "metadata": {},
   "source": [
    "# Logistic Regression\n",
    "### Vectorize text with TF-IDF"
   ]
  },
  {
   "cell_type": "code",
   "execution_count": 14,
   "id": "ca000284-116c-4ec7-b8a5-3b1535bfd09a",
   "metadata": {},
   "outputs": [],
   "source": [
    "#Filter out rare labels (keep only labels with >= 5 samples)\n",
    "label_counts = df['Assessments.1'].value_counts()\n",
    "valid_labels = label_counts[label_counts >= 5].index\n",
    "df_filtered = df[df['Assessments.1'].isin(valid_labels)].copy()\n",
    "\n",
    "# Prepare features and labels\n",
    "X = df_filtered['joined_tokens']\n",
    "y = df_filtered['Assessments.1']\n",
    "\n",
    "# TF-IDF Vectorization\n",
    "vectorizer = TfidfVectorizer(max_features=5000)\n",
    "X_vec = vectorizer.fit_transform(X)\n",
    "\n",
    "# Train-test split (stratified)\n",
    "X_train, X_test, y_train, y_test = train_test_split(\n",
    "    X_vec, y, test_size=0.2, stratify=y, random_state=42\n",
    ")"
   ]
  },
  {
   "cell_type": "markdown",
   "id": "0007acde-0782-4148-8d3d-0492678c45b8",
   "metadata": {},
   "source": [
    "### Train Logistic Regression"
   ]
  },
  {
   "cell_type": "code",
   "execution_count": 15,
   "id": "ebc9ab48-6a9d-46f9-a73e-bebb68a2f7fc",
   "metadata": {},
   "outputs": [
    {
     "name": "stdout",
     "output_type": "stream",
     "text": [
      "Logistic Regression Accuracy: 0.8691476590636255\n",
      "                                          precision    recall  f1-score   support\n",
      "\n",
      "ATC Equipment / Nav Facility / Buildings       0.25      0.07      0.11        14\n",
      "                                Aircraft       0.88      0.90      0.89       351\n",
      "       Environment - Non Weather Related       0.00      0.00      0.00        13\n",
      "                           Human Factors       0.87      0.95      0.90       411\n",
      "                                 Weather       0.95      0.43      0.59        44\n",
      "\n",
      "                                accuracy                           0.87       833\n",
      "                               macro avg       0.59      0.47      0.50       833\n",
      "                            weighted avg       0.85      0.87      0.85       833\n",
      "\n"
     ]
    }
   ],
   "source": [
    "# Train a Logistic Regression classifier on the TF-IDF features\n",
    "lr = LogisticRegression(max_iter=1000)\n",
    "lr.fit(X_train, y_train)\n",
    "\n",
    "# Predict and evaluate\n",
    "y_pred = lr.predict(X_test)\n",
    "print(\"Logistic Regression Accuracy:\", accuracy_score(y_test, y_pred))\n",
    "print(classification_report(y_test, y_pred))"
   ]
  },
  {
   "cell_type": "markdown",
   "id": "dc63ac84-1c3a-43fb-818b-61221009a08d",
   "metadata": {},
   "source": [
    "### Determine Most Informative Features"
   ]
  },
  {
   "cell_type": "code",
   "execution_count": 16,
   "id": "cf8a0085-4955-469c-b939-5e2b92253b9e",
   "metadata": {},
   "outputs": [
    {
     "name": "stdout",
     "output_type": "stream",
     "text": [
      "\n",
      "Top features for class: ATC Equipment / Nav Facility / Buildings\n",
      "            gps : 2.271\n",
      "      frequency : 1.545\n",
      "         sector : 1.504\n",
      "            rnp : 1.097\n",
      "             il : 1.035\n",
      "     glideslope : 1.001\n",
      "          radio : 0.977\n",
      "     controller : 0.957\n",
      "            tag : 0.793\n",
      "       position : 0.739\n",
      "\n",
      "Top features for class: Aircraft\n",
      "         engine : 3.343\n",
      "            zzz : 2.654\n",
      "    maintenance : 2.295\n",
      "            qrh : 2.083\n",
      "        failure : 1.952\n",
      "           gear : 1.942\n",
      "       priority : 1.739\n",
      "       pressure : 1.733\n",
      "          cabin : 1.719\n",
      "            rpm : 1.695\n",
      "\n",
      "Top features for class: Environment - Non Weather Related\n",
      "            gps : 2.313\n",
      "           bird : 2.154\n",
      "       spoofing : 1.193\n",
      "        terrain : 1.176\n",
      "         strike : 0.931\n",
      "        spoofed : 0.903\n",
      "        jamming : 0.783\n",
      "         object : 0.747\n",
      "            mud : 0.716\n",
      "         relief : 0.682\n",
      "\n",
      "Top features for class: Human Factors\n",
      "          drone : 2.000\n",
      "        traffic : 1.622\n",
      "            bag : 1.486\n",
      "             dg : 1.466\n",
      "            set : 1.461\n",
      "          final : 1.398\n",
      "      dangerous : 1.373\n",
      "         loaded : 1.199\n",
      "        cleared : 1.173\n",
      "       pushback : 1.144\n",
      "\n",
      "Top features for class: Weather\n",
      "     turbulence : 3.961\n",
      "        weather : 2.718\n",
      "         severe : 2.713\n",
      "           wind : 2.191\n",
      "    encountered : 1.942\n",
      "      downdraft : 1.838\n",
      "      condition : 1.824\n",
      "           gust : 1.576\n",
      "           wave : 1.317\n",
      "           snow : 1.286\n"
     ]
    }
   ],
   "source": [
    "# Extract feature names and model coefficients for interpretation\n",
    "feature_names = vectorizer.get_feature_names_out()\n",
    "coefs = lr.coef_\n",
    "\n",
    "# For multiclass — loop through classes\n",
    "for idx, class_label in enumerate(lr.classes_):\n",
    "    top_features = np.argsort(coefs[idx])[-10:]  # Top 10\n",
    "    print(f\"\\nTop features for class: {class_label}\")\n",
    "    for feat in reversed(top_features):\n",
    "        print(f\"{feature_names[feat]:>15} : {coefs[idx][feat]:.3f}\")\n"
   ]
  },
  {
   "cell_type": "markdown",
   "id": "d53beb34-786d-43f9-a0d6-1dfe18ae0cb6",
   "metadata": {},
   "source": [
    "### Predict and Compare with actual labels"
   ]
  },
  {
   "cell_type": "code",
   "execution_count": 17,
   "id": "dbf71950-629f-49f9-bac3-e99e7dfdd269",
   "metadata": {},
   "outputs": [
    {
     "name": "stdout",
     "output_type": "stream",
     "text": [
      "Text: normal takeoff rwy xx zzz climbing around msl student reduced power maximum continuous load required...\n",
      "Predicted: Aircraft\n",
      "\n",
      "Text: midfield crossing flying parallel rwy xx parallel heading near miss company aircraft discussed fligh...\n",
      "Predicted: Human Factors\n",
      "\n",
      "Text: base given heading join short time later speed knot asked airport instructed clear visual shortly al...\n",
      "Predicted: Human Factors\n",
      "\n",
      "Text: single engine piston plane night vfr lost electrical system landed nearest airport largest well lit ...\n",
      "Predicted: Aircraft\n",
      "\n",
      "Text: previously launched aircraft heading runway followed clearing aircraft takeoff runway heading cleari...\n",
      "Predicted: Human Factors\n",
      "\n"
     ]
    }
   ],
   "source": [
    "# Predict and display results for 5 random sample reports\n",
    "sample_texts = df['joined_tokens'].sample(5, random_state=42)\n",
    "\n",
    "for text in sample_texts:\n",
    "    X_sample = vectorizer.transform([text])\n",
    "    pred = lr.predict(X_sample)[0]\n",
    "    print(f\"Text: {text[:100]}...\\nPredicted: {pred}\\n\")"
   ]
  },
  {
   "cell_type": "markdown",
   "id": "dfcbd9d5-81c0-4489-9561-b95b50499588",
   "metadata": {},
   "source": [
    "# Support Vector Machine"
   ]
  },
  {
   "cell_type": "code",
   "execution_count": 18,
   "id": "c8f5ccc5-68f6-4aad-8189-9275e47f96d5",
   "metadata": {
    "scrolled": true
   },
   "outputs": [
    {
     "name": "stdout",
     "output_type": "stream",
     "text": [
      "SVM Accuracy: 0.8787515006002401\n",
      "\n",
      "Classification Report:\n",
      "                                          precision    recall  f1-score   support\n",
      "\n",
      "ATC Equipment / Nav Facility / Buildings       0.29      0.14      0.19        14\n",
      "                                Aircraft       0.89      0.91      0.90       351\n",
      "       Environment - Non Weather Related       0.50      0.15      0.24        13\n",
      "                           Human Factors       0.88      0.94      0.91       411\n",
      "                                 Weather       0.96      0.55      0.70        44\n",
      "\n",
      "                                accuracy                           0.88       833\n",
      "                               macro avg       0.70      0.54      0.59       833\n",
      "                            weighted avg       0.87      0.88      0.87       833\n",
      "\n"
     ]
    }
   ],
   "source": [
    "# Train the SVM model\n",
    "svm = LinearSVC()\n",
    "svm.fit(X_train, y_train)\n",
    "\n",
    "# Predict and evaluate\n",
    "y_pred_svm = svm.predict(X_test)\n",
    "\n",
    "print(\"SVM Accuracy:\", accuracy_score(y_test, y_pred_svm))\n",
    "print(\"\\nClassification Report:\")\n",
    "print(classification_report(y_test, y_pred_svm))\n"
   ]
  },
  {
   "cell_type": "markdown",
   "id": "1a09f5e4-8ac0-4515-81ae-0933774f659c",
   "metadata": {},
   "source": [
    "### Most informative features"
   ]
  },
  {
   "cell_type": "code",
   "execution_count": 19,
   "id": "072fe7cd-7f90-4cc5-9fc3-9bf6e05e8f26",
   "metadata": {},
   "outputs": [
    {
     "name": "stdout",
     "output_type": "stream",
     "text": [
      "\n",
      "Top features for class: ATC Equipment / Nav Facility / Buildings\n",
      "         sector : 1.036\n",
      "            bgr : 1.025\n",
      "            rnp : 1.007\n",
      "     glideslope : 0.995\n",
      "            cpr : 0.951\n",
      "            tag : 0.915\n",
      "            sbn : 0.909\n",
      "        goggles : 0.863\n",
      "             il : 0.861\n",
      "       position : 0.830\n",
      "\n",
      "Top features for class: Aircraft\n",
      "        failure : 2.063\n",
      "         engine : 1.994\n",
      "            qrh : 1.695\n",
      "            rpm : 1.611\n",
      "       pressure : 1.560\n",
      "            zzz : 1.516\n",
      "    maintenance : 1.480\n",
      "        problem : 1.462\n",
      "          issue : 1.419\n",
      "           fail : 1.370\n",
      "\n",
      "Top features for class: Environment - Non Weather Related\n",
      "           bird : 1.476\n",
      "        spoofed : 1.315\n",
      "            mud : 1.130\n",
      "       spoofing : 1.115\n",
      "          cairo : 1.055\n",
      "            gps : 0.885\n",
      "            orl : 0.812\n",
      "     electronic : 0.811\n",
      "        terrain : 0.801\n",
      "      eastbound : 0.799\n",
      "\n",
      "Top features for class: Human Factors\n",
      "          drone : 1.595\n",
      "     distracted : 1.567\n",
      "            set : 1.548\n",
      "           solo : 1.448\n",
      "            bag : 1.420\n",
      "           task : 1.394\n",
      "           wake : 1.389\n",
      "         rather : 1.257\n",
      "         loaded : 1.237\n",
      "          drove : 1.233\n",
      "\n",
      "Top features for class: Weather\n",
      "         severe : 2.355\n",
      "     turbulence : 2.269\n",
      "        weather : 1.910\n",
      "      downdraft : 1.826\n",
      "    encountered : 1.557\n",
      "           gust : 1.483\n",
      "           snow : 1.429\n",
      "          slide : 1.373\n",
      "           wave : 1.247\n",
      "           wind : 1.172\n"
     ]
    }
   ],
   "source": [
    "# Extract feature names and model coefficients for SVM interpretation\n",
    "feature_names = vectorizer.get_feature_names_out()\n",
    "coefs = svm.coef_\n",
    "\n",
    "for idx, class_label in enumerate(svm.classes_):\n",
    "    top10 = np.argsort(coefs[idx])[-10:]\n",
    "    print(f\"\\nTop features for class: {class_label}\")\n",
    "    for feat_index in reversed(top10):\n",
    "        print(f\"{feature_names[feat_index]:>15} : {coefs[idx][feat_index]:.3f}\")\n"
   ]
  }
 ],
 "metadata": {
  "kernelspec": {
   "display_name": "Python (ds_env)",
   "language": "python",
   "name": "ds_env"
  },
  "language_info": {
   "codemirror_mode": {
    "name": "ipython",
    "version": 3
   },
   "file_extension": ".py",
   "mimetype": "text/x-python",
   "name": "python",
   "nbconvert_exporter": "python",
   "pygments_lexer": "ipython3",
   "version": "3.12.9"
  }
 },
 "nbformat": 4,
 "nbformat_minor": 5
}
