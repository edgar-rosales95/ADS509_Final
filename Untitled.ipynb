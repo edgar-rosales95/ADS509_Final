{
 "cells": [
  {
   "cell_type": "code",
   "execution_count": null,
   "id": "7410f462-82d6-4a06-81f4-7e056cb9d2ec",
   "metadata": {},
   "outputs": [],
   "source": [
    "# Load Libraries here"
   ]
  }
 ],
 "metadata": {
  "kernelspec": {
   "display_name": "Python [conda env:base] *",
   "language": "python",
   "name": "conda-base-py"
  },
  "language_info": {
   "codemirror_mode": {
    "name": "ipython",
    "version": 3
   },
   "file_extension": ".py",
   "mimetype": "text/x-python",
   "name": "python",
   "nbconvert_exporter": "python",
   "pygments_lexer": "ipython3",
   "version": "3.10.16"
  }
 },
 "nbformat": 4,
 "nbformat_minor": 5
}
